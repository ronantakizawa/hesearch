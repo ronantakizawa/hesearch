{
  "cells": [
    {
      "cell_type": "markdown",
      "source": [
        "# Install requirements\n",
        "\n"
      ],
      "metadata": {
        "id": "N4mop3KcxCDS"
      },
      "id": "N4mop3KcxCDS"
    },
    {
      "cell_type": "code",
      "source": [
        "pip install tenseal sentence_transformers"
      ],
      "metadata": {
        "colab": {
          "base_uri": "https://localhost:8080/"
        },
        "id": "UqEdztlV8KvH",
        "outputId": "8b127c01-4407-428f-8b74-7e2ee53a70af"
      },
      "id": "UqEdztlV8KvH",
      "execution_count": 72,
      "outputs": [
        {
          "output_type": "stream",
          "name": "stdout",
          "text": [
            "Requirement already satisfied: tenseal in /usr/local/lib/python3.10/dist-packages (0.3.14)\n",
            "Requirement already satisfied: sentence_transformers in /usr/local/lib/python3.10/dist-packages (2.6.1)\n",
            "Requirement already satisfied: transformers<5.0.0,>=4.32.0 in /usr/local/lib/python3.10/dist-packages (from sentence_transformers) (4.38.2)\n",
            "Requirement already satisfied: tqdm in /usr/local/lib/python3.10/dist-packages (from sentence_transformers) (4.66.2)\n",
            "Requirement already satisfied: torch>=1.11.0 in /usr/local/lib/python3.10/dist-packages (from sentence_transformers) (2.2.1+cu121)\n",
            "Requirement already satisfied: numpy in /usr/local/lib/python3.10/dist-packages (from sentence_transformers) (1.25.2)\n",
            "Requirement already satisfied: scikit-learn in /usr/local/lib/python3.10/dist-packages (from sentence_transformers) (1.2.2)\n",
            "Requirement already satisfied: scipy in /usr/local/lib/python3.10/dist-packages (from sentence_transformers) (1.11.4)\n",
            "Requirement already satisfied: huggingface-hub>=0.15.1 in /usr/local/lib/python3.10/dist-packages (from sentence_transformers) (0.20.3)\n",
            "Requirement already satisfied: Pillow in /usr/local/lib/python3.10/dist-packages (from sentence_transformers) (9.4.0)\n",
            "Requirement already satisfied: filelock in /usr/local/lib/python3.10/dist-packages (from huggingface-hub>=0.15.1->sentence_transformers) (3.13.3)\n",
            "Requirement already satisfied: fsspec>=2023.5.0 in /usr/local/lib/python3.10/dist-packages (from huggingface-hub>=0.15.1->sentence_transformers) (2023.6.0)\n",
            "Requirement already satisfied: requests in /usr/local/lib/python3.10/dist-packages (from huggingface-hub>=0.15.1->sentence_transformers) (2.31.0)\n",
            "Requirement already satisfied: pyyaml>=5.1 in /usr/local/lib/python3.10/dist-packages (from huggingface-hub>=0.15.1->sentence_transformers) (6.0.1)\n",
            "Requirement already satisfied: typing-extensions>=3.7.4.3 in /usr/local/lib/python3.10/dist-packages (from huggingface-hub>=0.15.1->sentence_transformers) (4.10.0)\n",
            "Requirement already satisfied: packaging>=20.9 in /usr/local/lib/python3.10/dist-packages (from huggingface-hub>=0.15.1->sentence_transformers) (24.0)\n",
            "Requirement already satisfied: sympy in /usr/local/lib/python3.10/dist-packages (from torch>=1.11.0->sentence_transformers) (1.12)\n",
            "Requirement already satisfied: networkx in /usr/local/lib/python3.10/dist-packages (from torch>=1.11.0->sentence_transformers) (3.2.1)\n",
            "Requirement already satisfied: jinja2 in /usr/local/lib/python3.10/dist-packages (from torch>=1.11.0->sentence_transformers) (3.1.3)\n",
            "Requirement already satisfied: nvidia-cuda-nvrtc-cu12==12.1.105 in /usr/local/lib/python3.10/dist-packages (from torch>=1.11.0->sentence_transformers) (12.1.105)\n",
            "Requirement already satisfied: nvidia-cuda-runtime-cu12==12.1.105 in /usr/local/lib/python3.10/dist-packages (from torch>=1.11.0->sentence_transformers) (12.1.105)\n",
            "Requirement already satisfied: nvidia-cuda-cupti-cu12==12.1.105 in /usr/local/lib/python3.10/dist-packages (from torch>=1.11.0->sentence_transformers) (12.1.105)\n",
            "Requirement already satisfied: nvidia-cudnn-cu12==8.9.2.26 in /usr/local/lib/python3.10/dist-packages (from torch>=1.11.0->sentence_transformers) (8.9.2.26)\n",
            "Requirement already satisfied: nvidia-cublas-cu12==12.1.3.1 in /usr/local/lib/python3.10/dist-packages (from torch>=1.11.0->sentence_transformers) (12.1.3.1)\n",
            "Requirement already satisfied: nvidia-cufft-cu12==11.0.2.54 in /usr/local/lib/python3.10/dist-packages (from torch>=1.11.0->sentence_transformers) (11.0.2.54)\n",
            "Requirement already satisfied: nvidia-curand-cu12==10.3.2.106 in /usr/local/lib/python3.10/dist-packages (from torch>=1.11.0->sentence_transformers) (10.3.2.106)\n",
            "Requirement already satisfied: nvidia-cusolver-cu12==11.4.5.107 in /usr/local/lib/python3.10/dist-packages (from torch>=1.11.0->sentence_transformers) (11.4.5.107)\n",
            "Requirement already satisfied: nvidia-cusparse-cu12==12.1.0.106 in /usr/local/lib/python3.10/dist-packages (from torch>=1.11.0->sentence_transformers) (12.1.0.106)\n",
            "Requirement already satisfied: nvidia-nccl-cu12==2.19.3 in /usr/local/lib/python3.10/dist-packages (from torch>=1.11.0->sentence_transformers) (2.19.3)\n",
            "Requirement already satisfied: nvidia-nvtx-cu12==12.1.105 in /usr/local/lib/python3.10/dist-packages (from torch>=1.11.0->sentence_transformers) (12.1.105)\n",
            "Requirement already satisfied: triton==2.2.0 in /usr/local/lib/python3.10/dist-packages (from torch>=1.11.0->sentence_transformers) (2.2.0)\n",
            "Requirement already satisfied: nvidia-nvjitlink-cu12 in /usr/local/lib/python3.10/dist-packages (from nvidia-cusolver-cu12==11.4.5.107->torch>=1.11.0->sentence_transformers) (12.4.127)\n",
            "Requirement already satisfied: regex!=2019.12.17 in /usr/local/lib/python3.10/dist-packages (from transformers<5.0.0,>=4.32.0->sentence_transformers) (2023.12.25)\n",
            "Requirement already satisfied: tokenizers<0.19,>=0.14 in /usr/local/lib/python3.10/dist-packages (from transformers<5.0.0,>=4.32.0->sentence_transformers) (0.15.2)\n",
            "Requirement already satisfied: safetensors>=0.4.1 in /usr/local/lib/python3.10/dist-packages (from transformers<5.0.0,>=4.32.0->sentence_transformers) (0.4.2)\n",
            "Requirement already satisfied: joblib>=1.1.1 in /usr/local/lib/python3.10/dist-packages (from scikit-learn->sentence_transformers) (1.3.2)\n",
            "Requirement already satisfied: threadpoolctl>=2.0.0 in /usr/local/lib/python3.10/dist-packages (from scikit-learn->sentence_transformers) (3.4.0)\n",
            "Requirement already satisfied: MarkupSafe>=2.0 in /usr/local/lib/python3.10/dist-packages (from jinja2->torch>=1.11.0->sentence_transformers) (2.1.5)\n",
            "Requirement already satisfied: charset-normalizer<4,>=2 in /usr/local/lib/python3.10/dist-packages (from requests->huggingface-hub>=0.15.1->sentence_transformers) (3.3.2)\n",
            "Requirement already satisfied: idna<4,>=2.5 in /usr/local/lib/python3.10/dist-packages (from requests->huggingface-hub>=0.15.1->sentence_transformers) (3.6)\n",
            "Requirement already satisfied: urllib3<3,>=1.21.1 in /usr/local/lib/python3.10/dist-packages (from requests->huggingface-hub>=0.15.1->sentence_transformers) (2.0.7)\n",
            "Requirement already satisfied: certifi>=2017.4.17 in /usr/local/lib/python3.10/dist-packages (from requests->huggingface-hub>=0.15.1->sentence_transformers) (2024.2.2)\n",
            "Requirement already satisfied: mpmath>=0.19 in /usr/local/lib/python3.10/dist-packages (from sympy->torch>=1.11.0->sentence_transformers) (1.3.0)\n"
          ]
        }
      ]
    },
    {
      "cell_type": "code",
      "execution_count": 73,
      "id": "blank-finding",
      "metadata": {
        "id": "blank-finding"
      },
      "outputs": [],
      "source": [
        "import tenseal as ts # pip install tenseal\n",
        "import base64\n",
        "from sentence_transformers import SentenceTransformer"
      ]
    },
    {
      "cell_type": "markdown",
      "source": [
        "#Setup Embedding Model"
      ],
      "metadata": {
        "id": "GddG4YDXxWFG"
      },
      "id": "GddG4YDXxWFG"
    },
    {
      "cell_type": "code",
      "source": [
        "model = SentenceTransformer('all-MiniLM-L6-v2')"
      ],
      "metadata": {
        "id": "D06VWKb9R05H"
      },
      "id": "D06VWKb9R05H",
      "execution_count": 74,
      "outputs": []
    },
    {
      "cell_type": "code",
      "source": [
        "sentences = [\n",
        "    \"The quick brown fox jumps over the lazy dog.\",\n",
        "    \"I watched the sunset over the ocean.\",\n",
        "    \"Artificial intelligence is transforming industries.\",\n",
        "    \"The library was quiet and smelled like old books.\",\n",
        "    \"He dreamed of traveling to distant galaxies.\",\n",
        "    \"Innovation drives progress in the tech world.\",\n",
        "    \"The chef prepared a delicious meal for the guests.\",\n",
        "    \"Climate change poses a significant threat to global biodiversity.\",\n",
        "    \"The athlete trained rigorously for the upcoming marathon.\",\n",
        "    \"Music has the power to evoke deep emotional responses.\"\n",
        "]"
      ],
      "metadata": {
        "id": "fLkWnZHDXN4T"
      },
      "id": "fLkWnZHDXN4T",
      "execution_count": 75,
      "outputs": []
    },
    {
      "cell_type": "markdown",
      "source": [
        "# Get and Store Sentence Embeddings"
      ],
      "metadata": {
        "id": "1k6mp9KtxeLb"
      },
      "id": "1k6mp9KtxeLb"
    },
    {
      "cell_type": "code",
      "source": [
        "embeddings = model.encode(sentences)\n",
        "print(embeddings)"
      ],
      "metadata": {
        "colab": {
          "base_uri": "https://localhost:8080/"
        },
        "id": "WGIOo0L8ZWsw",
        "outputId": "98b0d245-cc7d-4b49-b8e0-54b19fe7ab2d"
      },
      "id": "WGIOo0L8ZWsw",
      "execution_count": 76,
      "outputs": [
        {
          "output_type": "stream",
          "name": "stdout",
          "text": [
            "[[ 0.04393356  0.05893442  0.04817836 ...  0.05216276  0.05610649\n",
            "   0.10206394]\n",
            " [ 0.02740657  0.0430141   0.03891347 ... -0.01506037 -0.08190976\n",
            "   0.03566786]\n",
            " [ 0.03608515 -0.02447893  0.05895455 ... -0.08262778  0.07626031\n",
            "  -0.02810953]\n",
            " ...\n",
            " [-0.04316908  0.12324493  0.09774672 ... -0.13736206 -0.0542914\n",
            "  -0.02212726]\n",
            " [-0.01195203  0.08340716 -0.03579247 ... -0.0014969   0.00464318\n",
            "  -0.00069307]\n",
            " [ 0.05495496 -0.0110149   0.09608352 ...  0.05075204  0.01033213\n",
            "  -0.03917952]]\n"
          ]
        }
      ]
    },
    {
      "cell_type": "markdown",
      "source": [
        "# Get Query Embedding"
      ],
      "metadata": {
        "id": "ElFs5JXGxb-g"
      },
      "id": "ElFs5JXGxb-g"
    },
    {
      "cell_type": "code",
      "source": [
        "query_text = \"Artificial intelligence is transforming industries.\"\n",
        "query_embedding = model.encode([query_text])\n",
        "print(query_embedding)"
      ],
      "metadata": {
        "colab": {
          "base_uri": "https://localhost:8080/"
        },
        "id": "uBrP7RKoZhMS",
        "outputId": "69830deb-351d-441c-fa22-4a6fa6e95fe3"
      },
      "id": "uBrP7RKoZhMS",
      "execution_count": 129,
      "outputs": [
        {
          "output_type": "stream",
          "name": "stdout",
          "text": [
            "[[ 3.60851325e-02 -2.44789366e-02  5.89545183e-02 -3.21429246e-03\n",
            "   4.38118353e-02  1.85996927e-02 -1.78743470e-02 -4.63144248e-03\n",
            "  -1.62027348e-02 -3.14670093e-02 -4.96116020e-02  8.08451101e-02\n",
            "  -2.00940073e-02 -1.92342326e-03 -2.43032053e-02  3.15106027e-02\n",
            "  -5.34295104e-02  5.58675849e-04 -1.01851113e-01 -9.03230533e-02\n",
            "   3.34103368e-02  4.79379017e-03 -4.64723632e-02 -3.10845505e-02\n",
            "   3.30479331e-02  5.18943928e-02  1.34106306e-02 -1.10997874e-02\n",
            "  -4.43072878e-02 -5.49910590e-02 -4.65399697e-02  7.50129446e-02\n",
            "   4.76049818e-02  4.27132770e-02  3.35510597e-02  7.91164339e-02\n",
            "   2.42569391e-02  1.74476560e-02  8.09293836e-02 -9.92202852e-03\n",
            "   3.46010067e-02 -1.11723728e-01 -3.14392820e-02 -2.51279734e-02\n",
            "   6.11408651e-02  7.95261264e-02  5.71230426e-03 -2.10794471e-02\n",
            "   2.01567896e-02  2.59161312e-02 -1.67493403e-01 -2.59155612e-02\n",
            "   5.32490537e-02  4.23922017e-03 -5.21578267e-02  2.88533941e-02\n",
            "   5.73436171e-02 -4.07534800e-02  7.47103384e-03 -1.51069853e-02\n",
            "   3.81493866e-02 -4.76511307e-02  7.35152587e-02  4.64609042e-02\n",
            "   1.51733672e-02 -1.66440825e-03 -7.94467628e-02  1.94455329e-02\n",
            "  -9.47663859e-02 -4.97874990e-02  6.05358034e-02 -3.83553817e-03\n",
            "  -1.10017257e-02 -4.61912947e-03  4.46976572e-02 -7.02836365e-02\n",
            "   1.10638039e-02  2.25590244e-02  1.30580768e-01 -4.87238988e-02\n",
            "   4.12261300e-02 -6.23305701e-02 -2.94938125e-02  7.84863904e-02\n",
            "  -4.45914641e-02 -1.88165568e-02  6.27222937e-03 -2.07122485e-03\n",
            "   4.35234942e-02 -3.45486328e-02 -5.06023876e-02 -5.36594205e-02\n",
            "  -7.92220607e-03 -2.06090026e-02  2.73292251e-02  1.52453203e-02\n",
            "  -9.39299390e-02 -8.00241083e-02  5.39994314e-02  3.33264470e-02\n",
            "  -5.29453643e-02  1.81125067e-02 -7.36088213e-03 -7.98068345e-02\n",
            "  -1.63557101e-02 -2.72467751e-02  1.46385450e-02  5.59260584e-02\n",
            "   2.99601611e-02 -1.67526882e-02 -2.78871115e-02  5.39642200e-02\n",
            "   2.99406145e-02 -5.94183691e-02  1.19798109e-02  7.64834788e-03\n",
            "  -3.34665142e-02  1.27076462e-01 -2.98789013e-02  6.80727288e-02\n",
            "   1.19877383e-02  4.91771698e-02 -6.35325983e-02  1.14173584e-01\n",
            "  -1.67569667e-02 -2.90137827e-02 -1.14268623e-01 -4.61271477e-33\n",
            "  -1.40073508e-01  1.86443962e-02  6.81202784e-02  6.00259602e-02\n",
            "  -3.04764621e-02 -2.97459476e-02  1.36677912e-02  3.96530796e-03\n",
            "  -3.77621152e-03 -3.58437560e-02 -8.53072107e-02  7.90770128e-02\n",
            "  -1.35078244e-02  4.25071903e-02  8.28275308e-02 -8.19623768e-02\n",
            "  -3.68268788e-02  3.79405431e-02  6.07900210e-02 -6.47825748e-02\n",
            "   1.77846253e-02 -1.87484163e-03 -5.74489944e-02  3.97638604e-02\n",
            "  -3.01287398e-02  3.64077054e-02  6.01039454e-03 -1.52676739e-02\n",
            "   3.10040880e-02  1.77253701e-03  4.64272350e-02  1.05606623e-01\n",
            "  -4.73002680e-02 -2.39554811e-02 -1.50151849e-02 -2.73465225e-03\n",
            "  -4.06145677e-02 -2.24420857e-02  4.74604603e-04  1.13013916e-01\n",
            "  -7.62575120e-02  3.38044725e-02 -3.96421999e-02 -1.47668906e-02\n",
            "   3.00671700e-02  4.69466336e-02  7.04463348e-02 -1.50208715e-02\n",
            "  -1.75554294e-03 -3.12114060e-02 -4.67557125e-02  4.35941294e-02\n",
            "   9.66855958e-02 -8.27000812e-02  1.12253070e-01  1.25842756e-02\n",
            "  -1.96508393e-02 -5.09936735e-02  4.05956432e-02 -2.26068944e-02\n",
            "  -1.76000055e-02  3.11976187e-02 -2.01953854e-02  6.55903295e-02\n",
            "   2.64390036e-02  1.04373723e-01  8.35299864e-02  6.18959405e-02\n",
            "   4.07690555e-02  7.85330907e-02  3.97011302e-02  3.56136076e-02\n",
            "  -4.86763008e-02  1.69579331e-02 -1.04331262e-01  1.00105088e-02\n",
            "  -1.42340902e-02 -3.14909257e-02  3.13444547e-02 -1.22056827e-02\n",
            "  -9.06748548e-02  3.55528817e-02  1.66684985e-02 -7.35190809e-02\n",
            "   1.17017560e-01  1.08742667e-02  1.68714914e-02 -5.01598790e-02\n",
            "   6.89838082e-02  4.32923175e-02 -5.02136834e-02 -2.25113276e-02\n",
            "  -5.62280454e-02  8.57312307e-02 -2.01851651e-02  2.45616275e-33\n",
            "  -7.30445385e-02  1.25736995e-02 -7.50661343e-02  6.34562075e-02\n",
            "  -3.38195860e-02 -2.11630035e-02  2.38499902e-02  1.45560699e-02\n",
            "   2.27147248e-02  8.33754838e-02 -2.39017140e-02 -5.74520677e-02\n",
            "  -4.63380013e-03 -3.77095887e-03 -3.05582825e-02 -1.01329749e-02\n",
            "   3.41924699e-03 -1.89468227e-02 -4.04733941e-02 -4.41237027e-03\n",
            "   1.11641055e-02  1.15671962e-01 -6.02611490e-02 -5.47961192e-03\n",
            "   6.84792316e-03  4.34804522e-02 -5.63960187e-02  3.75746600e-02\n",
            "   2.82686464e-02  2.19680239e-02 -4.30349074e-02 -4.40008938e-02\n",
            "  -3.69246453e-02  9.39419195e-02 -1.64951421e-02  4.49770540e-02\n",
            "  -2.17472967e-02 -5.50290123e-02  3.86643526e-03  7.20734941e-03\n",
            "  -9.47638531e-04 -4.66842689e-02 -6.48088455e-02  4.57830764e-02\n",
            "  -1.01529416e-02 -6.05056435e-02  1.71303265e-02  3.67650203e-02\n",
            "   2.29904652e-02 -3.39215025e-02  2.15170160e-02  1.47489775e-02\n",
            "  -2.53262860e-03 -1.07124664e-01 -6.78089708e-02  7.76488855e-02\n",
            "   2.68313326e-02 -1.56693924e-02 -1.37827218e-01  3.03304251e-02\n",
            "  -1.66111868e-02 -4.39588055e-02  7.60468617e-02  1.81958806e-02\n",
            "  -7.05129525e-04  3.64812724e-02  3.24949361e-02  5.68337254e-02\n",
            "  -1.51553331e-02 -1.40769124e-01  9.84573588e-02  2.39657853e-02\n",
            "  -4.38251197e-02 -6.27094787e-03 -6.26786202e-02 -2.68608704e-02\n",
            "  -4.01959680e-02  2.13836599e-02 -5.69660068e-02  3.26454379e-02\n",
            "   2.86184009e-02 -2.58068237e-02  4.52740937e-02  7.70851038e-03\n",
            "  -2.74369325e-02  8.17721635e-02  2.87271589e-02 -1.84349120e-02\n",
            "  -5.45960553e-02 -5.33575378e-02 -1.48826599e-01  1.15071740e-02\n",
            "  -8.74158964e-02  1.08624874e-02 -1.07543513e-01 -1.37646046e-08\n",
            "  -2.72609871e-02  1.32725411e-03  7.12706298e-02 -1.22768786e-02\n",
            "   5.51978908e-02 -1.90540832e-02 -4.32134867e-02  5.58947362e-02\n",
            "  -1.43167842e-02  3.48702893e-02 -1.08931977e-02 -1.51609955e-02\n",
            "   6.07929379e-02  6.39763251e-02  4.80929874e-02  5.20810410e-02\n",
            "   8.12936947e-03 -4.50414270e-02  4.80614742e-03 -9.78848338e-03\n",
            "   8.17313641e-02  5.54895177e-02 -4.89906000e-04  2.85734907e-02\n",
            "   1.85850412e-02 -3.55035216e-02 -3.52581888e-02 -4.13176864e-02\n",
            "  -3.35376784e-02  6.23587556e-02 -3.59169096e-02 -2.22241459e-03\n",
            "   4.10016626e-02  1.98634975e-02  3.95166241e-02  6.54157577e-03\n",
            "   5.71246035e-02 -4.89645675e-02 -4.42366078e-02 -7.30610937e-02\n",
            "  -3.34852971e-02  1.09947041e-01 -9.49165300e-02  2.80370638e-02\n",
            "   1.46612376e-02 -4.98963036e-02  2.21725143e-02 -4.44267131e-02\n",
            "   5.44081144e-02 -1.05806990e-02  2.43957825e-02  2.58243848e-02\n",
            "   3.83358486e-02  2.40091011e-02  8.10525715e-02 -2.06937715e-02\n",
            "   3.20401751e-02 -2.34079119e-02 -7.26808161e-02  7.94852152e-02\n",
            "   3.20678912e-02 -8.26277658e-02  7.62602836e-02 -2.81095188e-02]]\n"
          ]
        }
      ]
    },
    {
      "cell_type": "markdown",
      "source": [
        "# Setup CKKS Homomorphic Encryption"
      ],
      "metadata": {
        "id": "rtApa641xn5h"
      },
      "id": "rtApa641xn5h"
    },
    {
      "cell_type": "code",
      "source": [
        "context = ts.context(\n",
        "            ts.SCHEME_TYPE.CKKS,\n",
        "            poly_modulus_degree = 8192,\n",
        "            coeff_mod_bit_sizes = [60, 40, 40, 60]\n",
        "          )\n",
        "\n",
        "context.generate_galois_keys()\n",
        "context.global_scale = 2**40"
      ],
      "metadata": {
        "id": "q7St2ZVgZ2zO"
      },
      "id": "q7St2ZVgZ2zO",
      "execution_count": 130,
      "outputs": []
    },
    {
      "cell_type": "code",
      "source": [
        "secret_context = context.serialize(save_secret_key = True)"
      ],
      "metadata": {
        "id": "77UHXklNZ4qt"
      },
      "id": "77UHXklNZ4qt",
      "execution_count": 131,
      "outputs": []
    },
    {
      "cell_type": "code",
      "source": [
        "context.make_context_public() #drop the secret_key from the context\n",
        "public_context = context.serialize()"
      ],
      "metadata": {
        "id": "3y1WH4LtZ61G"
      },
      "id": "3y1WH4LtZ61G",
      "execution_count": 132,
      "outputs": []
    },
    {
      "cell_type": "code",
      "source": [
        "context = ts.context_from(secret_context)"
      ],
      "metadata": {
        "id": "hlryKQ2sZ_Hi"
      },
      "id": "hlryKQ2sZ_Hi",
      "execution_count": 133,
      "outputs": []
    },
    {
      "cell_type": "markdown",
      "source": [
        "# Encrypt All Embeddings"
      ],
      "metadata": {
        "id": "LsIAh2CRx0Z-"
      },
      "id": "LsIAh2CRx0Z-"
    },
    {
      "cell_type": "code",
      "source": [
        "enc_queryvec = ts.ckks_vector(context, query_embedding[0].tolist())\n",
        "print(enc_queryvec.decrypt())"
      ],
      "metadata": {
        "colab": {
          "base_uri": "https://localhost:8080/"
        },
        "id": "UCZNAupkaD-b",
        "outputId": "937a362e-9b89-4dd3-d0b6-64480061f407"
      },
      "id": "UCZNAupkaD-b",
      "execution_count": 134,
      "outputs": [
        {
          "output_type": "stream",
          "name": "stdout",
          "text": [
            "[0.03608513113383832, -0.024478936326003738, 0.05895451790581528, -0.0032142929050931815, 0.04381183499707305, 0.018599692621104502, -0.017874346570614492, -0.004631440917279373, -0.016202734363539348, -0.031467009233617546, -0.04961160351448522, 0.08084510803796882, -0.02009400762059079, -0.0019234260663707411, -0.024303204345803835, 0.031510603936170584, -0.05342950873636152, 0.0005586758079435469, -0.10185111273609469, -0.09032305359975673, 0.03341033603229296, 0.004793790268919117, -0.04647236332768068, -0.031084550122712665, 0.03304793205466674, 0.05189439567957291, 0.013410629609135865, -0.01109978887748959, -0.044307287860951845, -0.0549910577883782, -0.04653997030347586, 0.07501294615342324, 0.047604983556611476, 0.042713277341152586, 0.03355106027282079, 0.07911643331254395, 0.02425693852694871, 0.017447656471013064, 0.0809293833356218, -0.009922029562551608, 0.03460100506328996, -0.1117237278517132, -0.03143928126095097, -0.025127973260460016, 0.06114086579738352, 0.07952612512259973, 0.0057123039826561944, -0.021079449600538827, 0.02015678994680589, 0.025916132361895376, -0.1674934016776054, -0.025915561445608075, 0.053249053411948966, 0.004239224257716889, -0.05215782652551541, 0.028853394067885597, 0.05734361788820705, -0.04075348302739397, 0.007471032586403643, -0.015106985764018987, 0.03814938688678683, -0.047651131636179817, 0.07351525514790558, 0.04646090243675259, 0.01517336779696851, -0.0016644081810658698, -0.07944676193087315, 0.019445533935721467, -0.09476638590292852, -0.049787498830432514, 0.06053580369048857, -0.0038355375906713833, -0.011001725712817153, -0.004619128730647782, 0.04469765714631521, -0.0702836366489824, 0.011063804723617458, 0.022559024129456737, 0.1305807670553133, -0.04872389391601211, 0.04122612964588161, -0.06233057051457262, -0.029493814245528056, 0.0784863905216318, -0.04459146414789555, -0.018816555826246233, 0.006272231669564021, -0.00207122474765924, 0.04352349373556588, -0.03454863576452473, -0.0506023852037118, -0.0536594201479023, -0.007922206047587196, -0.020609005463034645, 0.027329223125378114, 0.015245321544769675, -0.09392993959844184, -0.08002410991524647, 0.053999430944835156, 0.03332644739899593, -0.05294536308525104, 0.018112506794652098, -0.007360878152078542, -0.07980683426377923, -0.01635571077936703, -0.027246775137430578, 0.01463854407906479, 0.05592606039460164, 0.029960161870229148, -0.016752688341112845, -0.027887111431292872, 0.05396421959071142, 0.02994061286349739, -0.05941837130436277, 0.011979810647439023, 0.007648348249237427, -0.03346651431896234, 0.1270764620639246, -0.029878899922599077, 0.06807272836860195, 0.011987739600902658, 0.049177169861435326, -0.06353260090072915, 0.11417358466383448, -0.01675696486663536, -0.029013783045302645, -0.11426862306810973, 7.85872096564777e-10, -0.14007350775925195, 0.018644396271729556, 0.06812027800152842, 0.06002595986693067, -0.030476462402850985, -0.029745947672338797, 0.013667790818420941, 0.003965307931299912, -0.003776211463256453, -0.0358437560448636, -0.08530721033833533, 0.07907701277016765, -0.013507824737830838, 0.04250719019256591, 0.08282752983296529, -0.08196237552125982, -0.036826879179958596, 0.03794054241238267, 0.06079002107157498, -0.06478257479754755, 0.017784627549660093, -0.0018748416679227956, -0.05744899441956473, 0.03976385917736936, -0.030128738409477576, 0.036407705543797866, 0.006010394513683681, -0.015267674698490614, 0.031004088765182014, 0.0017725367184129107, 0.046427233292411885, 0.105606622803883, -0.0473002676630909, -0.023955480244782435, -0.015015183108158078, -0.0027346501679314794, -0.04061456738658037, -0.022442085754387463, 0.00047460726116139995, 0.11301391573911412, -0.07625750944741236, 0.033804472866355115, -0.039642199440937484, -0.01476689075514327, 0.03006717345848388, 0.046946632962640095, 0.07044633286094222, -0.015020871127025593, -0.001755544321770811, -0.031211405711384036, -0.0467557123192639, 0.04359412846195481, 0.09668559530401356, -0.0827000810254578, 0.11225306984970415, 0.012584275980464587, -0.019650839636027765, -0.05099367465649862, 0.04059564376526548, -0.02260689582362816, -0.017600005330704195, 0.031197622324112467, -0.02019538546441623, 0.06559032672002882, 0.026439002897726764, 0.10437372342617851, 0.08352998711804939, 0.061895940484390934, 0.04076905605529391, 0.07853309039340962, 0.03970112942817467, 0.03561360686457844, -0.048676300502787706, 0.016957934161499363, -0.1043312617363169, 0.010010509411786515, -0.0142340896578423, -0.03149092525149556, 0.03134445381468893, -0.012205684618558359, -0.0906748537726178, 0.03555288213019866, 0.016668498572007022, -0.07351908049813158, 0.11701756062071961, 0.010874266431756187, 0.01687149161959947, -0.050159879915260726, 0.06898380797655898, 0.043292318975057975, -0.050213683084455465, -0.022511328663748283, -0.05622804499631799, 0.08573123019151523, -0.020185164477930787, 2.839729279198802e-09, -0.07304453691084326, 0.01257369906470994, -0.0750661347477592, 0.06345620696027487, -0.033819586824503464, -0.021163003616528977, 0.023849990330593165, 0.01455606967157334, 0.02271472278314264, 0.08337548372263141, -0.023901713800105577, -0.0574520668209672, -0.004633800960199338, -0.0037709594585188175, -0.030558281917869995, -0.01013297369645489, 0.003419246544543793, -0.018946821653856236, -0.040473394985393644, -0.004412371803512016, 0.01116410567415576, 0.11567196331296258, -0.06026115031562705, -0.005479611097218619, 0.006847923847510529, 0.043480451299200834, -0.056396018863041894, 0.03757466030223486, 0.028268646652976827, 0.02196802394162466, -0.043034908806874494, -0.044000894164341706, -0.03692464403757874, 0.09394191968155116, -0.016495142473394786, 0.044977052301550566, -0.021747300644064983, -0.05502901442995723, 0.003866433708914491, 0.007207349474541555, -0.0009476395968852106, -0.046684268036044314, -0.06480884499268302, 0.045783077643267986, -0.010152941441713081, -0.06050564350034118, 0.017130325831363834, 0.036765020408103075, 0.02299046525800428, -0.033921500160461575, 0.021517015220029856, 0.014748977375137473, -0.0025326322329530457, -0.10712466441317414, -0.06780897050610249, 0.07764888482013187, 0.026831332301984603, -0.015669390922252696, -0.13782721752414873, 0.030330425400940605, -0.016611188293743695, -0.04395880471142112, 0.0760468622336681, 0.018195881098867862, -0.0007051293993912307, 0.0364812749291678, 0.032494936491184984, 0.056833724553027994, -0.015155336167398337, -0.14076912362858574, 0.09845736094648187, 0.023965786237723417, -0.04382511980815104, -0.006270949313043582, -0.06267862012041218, -0.026860870631310232, -0.0401959656789245, 0.02138366002269318, -0.056966006954121504, 0.03264543837008661, 0.02861840126962877, -0.02580682352142072, 0.04527409369863279, 0.007708511878249195, -0.02743693341127329, 0.08177216386158566, 0.02872715893312928, -0.01843491180803269, -0.05459605425016521, -0.05335753768776862, -0.14882659946332452, 0.01150717490628954, -0.08741589650132538, 0.010862487367887398, -0.10754351294869599, -1.3619629247313414e-08, -0.027260986510904094, 0.0013272515012568219, 0.07127062969299698, -0.012276879326729079, 0.05519789072879164, -0.019054083110254888, -0.04321348766144605, 0.055894737734865314, -0.0143167842928111, 0.034870288480080586, -0.010893198591204675, -0.015160995575093414, 0.060792938066430754, 0.06397632262717406, 0.048092988148458825, 0.05208103944836383, 0.008129368309453499, -0.045041426955468915, 0.0048061480677069855, -0.009788482897488265, 0.08173136409275658, 0.05548952018518786, -0.0004899046670310148, 0.028573490604008836, 0.01858504086671088, -0.03550352156486451, -0.03525818957456246, -0.04131768810949904, -0.03353767835885143, 0.06235875398934927, -0.03591691026629815, -0.0022224143145558144, 0.04100166343054454, 0.019863496578872406, 0.039516624543094375, 0.006541575495303261, 0.05712460492732297, -0.048964568329604774, -0.04423660888776647, -0.07306109390319084, -0.03348529742653175, 0.10994704206212882, -0.09491653019068379, 0.02803706700722615, 0.014661237498677123, -0.049896302290597674, 0.02217251786694386, -0.044426713302343226, 0.05440811381397122, -0.010580699540968144, 0.024395781364534064, 0.025824383513394767, 0.03833584785500349, 0.02400910157493913, 0.08105256889304084, -0.02069377194474501, 0.03204017535828237, -0.023407911266141855, -0.0726808141043074, 0.07948521639100703, 0.032067891026747036, -0.08262776781565409, 0.07626028423884874, -0.028109516520167403]\n"
          ]
        }
      ]
    },
    {
      "cell_type": "markdown",
      "source": [
        "Measure Eucledian Distance"
      ],
      "metadata": {
        "id": "bVvlLunBMKRJ"
      },
      "id": "bVvlLunBMKRJ"
    },
    {
      "cell_type": "code",
      "source": [
        "euclidean_difference_ranking = []\n",
        "for i in range (len(sentences)):\n",
        "  enc_sentence = ts.ckks_vector(context, embeddings[i].tolist())\n",
        "  euclidean_squared =   enc_queryvec - enc_sentence\n",
        "  euclidean_difference_ranking.append({sentences[i]:abs(euclidean_squared.decrypt()[0])})"
      ],
      "metadata": {
        "id": "XsmYN2HZv_Qh"
      },
      "id": "XsmYN2HZv_Qh",
      "execution_count": 135,
      "outputs": []
    },
    {
      "cell_type": "markdown",
      "source": [
        "# Present Results"
      ],
      "metadata": {
        "id": "EFDabr6UN4Nu"
      },
      "id": "EFDabr6UN4Nu"
    },
    {
      "cell_type": "code",
      "source": [
        "search_results = sorted(euclidean_difference_ranking, key=lambda x: list(x.values())[0])\n",
        "for item in search_results:\n",
        "  print(item)\n",
        "  print()"
      ],
      "metadata": {
        "colab": {
          "base_uri": "https://localhost:8080/"
        },
        "id": "ZX9uGA2QN57W",
        "outputId": "1af42657-9e1e-493c-f8d0-dd3ee0a1655d"
      },
      "id": "ZX9uGA2QN57W",
      "execution_count": 136,
      "outputs": [
        {
          "output_type": "stream",
          "name": "stdout",
          "text": [
            "{'Artificial intelligence is transforming industries.': 2.1452503881992105e-08}\n",
            "\n",
            "{'The quick brown fox jumps over the lazy dog.': 0.007848430681761193}\n",
            "\n",
            "{'The library was quiet and smelled like old books.': 0.007859144698194348}\n",
            "\n",
            "{'I watched the sunset over the ocean.': 0.008678558683020421}\n",
            "\n",
            "{'Music has the power to evoke deep emotional responses.': 0.018869825973224112}\n",
            "\n",
            "{'Innovation drives progress in the tech world.': 0.023792035812631472}\n",
            "\n",
            "{'The chef prepared a delicious meal for the guests.': 0.046898367326590855}\n",
            "\n",
            "{'The athlete trained rigorously for the upcoming marathon.': 0.0480371589371672}\n",
            "\n",
            "{'He dreamed of traveling to distant galaxies.': 0.051423703642053065}\n",
            "\n",
            "{'Climate change poses a significant threat to global biodiversity.': 0.07925421433619254}\n",
            "\n"
          ]
        }
      ]
    }
  ],
  "metadata": {
    "kernelspec": {
      "display_name": "Python 3",
      "language": "python",
      "name": "python3"
    },
    "language_info": {
      "codemirror_mode": {
        "name": "ipython",
        "version": 3
      },
      "file_extension": ".py",
      "mimetype": "text/x-python",
      "name": "python",
      "nbconvert_exporter": "python",
      "pygments_lexer": "ipython3",
      "version": "3.8.5"
    },
    "colab": {
      "provenance": []
    }
  },
  "nbformat": 4,
  "nbformat_minor": 5
}