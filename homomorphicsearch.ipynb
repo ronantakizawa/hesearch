{
  "cells": [
    {
      "cell_type": "markdown",
      "source": [
        "# Install requirements\n",
        "\n"
      ],
      "metadata": {
        "id": "N4mop3KcxCDS"
      },
      "id": "N4mop3KcxCDS"
    },
    {
      "cell_type": "code",
      "source": [
        "pip install tenseal sentence_transformers"
      ],
      "metadata": {
        "colab": {
          "base_uri": "https://localhost:8080/"
        },
        "id": "UqEdztlV8KvH",
        "outputId": "8b127c01-4407-428f-8b74-7e2ee53a70af"
      },
      "id": "UqEdztlV8KvH",
      "execution_count": 72,
      "outputs": [
        {
          "output_type": "stream",
          "name": "stdout",
          "text": [
            "Requirement already satisfied: tenseal in /usr/local/lib/python3.10/dist-packages (0.3.14)\n",
            "Requirement already satisfied: sentence_transformers in /usr/local/lib/python3.10/dist-packages (2.6.1)\n",
            "Requirement already satisfied: transformers<5.0.0,>=4.32.0 in /usr/local/lib/python3.10/dist-packages (from sentence_transformers) (4.38.2)\n",
            "Requirement already satisfied: tqdm in /usr/local/lib/python3.10/dist-packages (from sentence_transformers) (4.66.2)\n",
            "Requirement already satisfied: torch>=1.11.0 in /usr/local/lib/python3.10/dist-packages (from sentence_transformers) (2.2.1+cu121)\n",
            "Requirement already satisfied: numpy in /usr/local/lib/python3.10/dist-packages (from sentence_transformers) (1.25.2)\n",
            "Requirement already satisfied: scikit-learn in /usr/local/lib/python3.10/dist-packages (from sentence_transformers) (1.2.2)\n",
            "Requirement already satisfied: scipy in /usr/local/lib/python3.10/dist-packages (from sentence_transformers) (1.11.4)\n",
            "Requirement already satisfied: huggingface-hub>=0.15.1 in /usr/local/lib/python3.10/dist-packages (from sentence_transformers) (0.20.3)\n",
            "Requirement already satisfied: Pillow in /usr/local/lib/python3.10/dist-packages (from sentence_transformers) (9.4.0)\n",
            "Requirement already satisfied: filelock in /usr/local/lib/python3.10/dist-packages (from huggingface-hub>=0.15.1->sentence_transformers) (3.13.3)\n",
            "Requirement already satisfied: fsspec>=2023.5.0 in /usr/local/lib/python3.10/dist-packages (from huggingface-hub>=0.15.1->sentence_transformers) (2023.6.0)\n",
            "Requirement already satisfied: requests in /usr/local/lib/python3.10/dist-packages (from huggingface-hub>=0.15.1->sentence_transformers) (2.31.0)\n",
            "Requirement already satisfied: pyyaml>=5.1 in /usr/local/lib/python3.10/dist-packages (from huggingface-hub>=0.15.1->sentence_transformers) (6.0.1)\n",
            "Requirement already satisfied: typing-extensions>=3.7.4.3 in /usr/local/lib/python3.10/dist-packages (from huggingface-hub>=0.15.1->sentence_transformers) (4.10.0)\n",
            "Requirement already satisfied: packaging>=20.9 in /usr/local/lib/python3.10/dist-packages (from huggingface-hub>=0.15.1->sentence_transformers) (24.0)\n",
            "Requirement already satisfied: sympy in /usr/local/lib/python3.10/dist-packages (from torch>=1.11.0->sentence_transformers) (1.12)\n",
            "Requirement already satisfied: networkx in /usr/local/lib/python3.10/dist-packages (from torch>=1.11.0->sentence_transformers) (3.2.1)\n",
            "Requirement already satisfied: jinja2 in /usr/local/lib/python3.10/dist-packages (from torch>=1.11.0->sentence_transformers) (3.1.3)\n",
            "Requirement already satisfied: nvidia-cuda-nvrtc-cu12==12.1.105 in /usr/local/lib/python3.10/dist-packages (from torch>=1.11.0->sentence_transformers) (12.1.105)\n",
            "Requirement already satisfied: nvidia-cuda-runtime-cu12==12.1.105 in /usr/local/lib/python3.10/dist-packages (from torch>=1.11.0->sentence_transformers) (12.1.105)\n",
            "Requirement already satisfied: nvidia-cuda-cupti-cu12==12.1.105 in /usr/local/lib/python3.10/dist-packages (from torch>=1.11.0->sentence_transformers) (12.1.105)\n",
            "Requirement already satisfied: nvidia-cudnn-cu12==8.9.2.26 in /usr/local/lib/python3.10/dist-packages (from torch>=1.11.0->sentence_transformers) (8.9.2.26)\n",
            "Requirement already satisfied: nvidia-cublas-cu12==12.1.3.1 in /usr/local/lib/python3.10/dist-packages (from torch>=1.11.0->sentence_transformers) (12.1.3.1)\n",
            "Requirement already satisfied: nvidia-cufft-cu12==11.0.2.54 in /usr/local/lib/python3.10/dist-packages (from torch>=1.11.0->sentence_transformers) (11.0.2.54)\n",
            "Requirement already satisfied: nvidia-curand-cu12==10.3.2.106 in /usr/local/lib/python3.10/dist-packages (from torch>=1.11.0->sentence_transformers) (10.3.2.106)\n",
            "Requirement already satisfied: nvidia-cusolver-cu12==11.4.5.107 in /usr/local/lib/python3.10/dist-packages (from torch>=1.11.0->sentence_transformers) (11.4.5.107)\n",
            "Requirement already satisfied: nvidia-cusparse-cu12==12.1.0.106 in /usr/local/lib/python3.10/dist-packages (from torch>=1.11.0->sentence_transformers) (12.1.0.106)\n",
            "Requirement already satisfied: nvidia-nccl-cu12==2.19.3 in /usr/local/lib/python3.10/dist-packages (from torch>=1.11.0->sentence_transformers) (2.19.3)\n",
            "Requirement already satisfied: nvidia-nvtx-cu12==12.1.105 in /usr/local/lib/python3.10/dist-packages (from torch>=1.11.0->sentence_transformers) (12.1.105)\n",
            "Requirement already satisfied: triton==2.2.0 in /usr/local/lib/python3.10/dist-packages (from torch>=1.11.0->sentence_transformers) (2.2.0)\n",
            "Requirement already satisfied: nvidia-nvjitlink-cu12 in /usr/local/lib/python3.10/dist-packages (from nvidia-cusolver-cu12==11.4.5.107->torch>=1.11.0->sentence_transformers) (12.4.127)\n",
            "Requirement already satisfied: regex!=2019.12.17 in /usr/local/lib/python3.10/dist-packages (from transformers<5.0.0,>=4.32.0->sentence_transformers) (2023.12.25)\n",
            "Requirement already satisfied: tokenizers<0.19,>=0.14 in /usr/local/lib/python3.10/dist-packages (from transformers<5.0.0,>=4.32.0->sentence_transformers) (0.15.2)\n",
            "Requirement already satisfied: safetensors>=0.4.1 in /usr/local/lib/python3.10/dist-packages (from transformers<5.0.0,>=4.32.0->sentence_transformers) (0.4.2)\n",
            "Requirement already satisfied: joblib>=1.1.1 in /usr/local/lib/python3.10/dist-packages (from scikit-learn->sentence_transformers) (1.3.2)\n",
            "Requirement already satisfied: threadpoolctl>=2.0.0 in /usr/local/lib/python3.10/dist-packages (from scikit-learn->sentence_transformers) (3.4.0)\n",
            "Requirement already satisfied: MarkupSafe>=2.0 in /usr/local/lib/python3.10/dist-packages (from jinja2->torch>=1.11.0->sentence_transformers) (2.1.5)\n",
            "Requirement already satisfied: charset-normalizer<4,>=2 in /usr/local/lib/python3.10/dist-packages (from requests->huggingface-hub>=0.15.1->sentence_transformers) (3.3.2)\n",
            "Requirement already satisfied: idna<4,>=2.5 in /usr/local/lib/python3.10/dist-packages (from requests->huggingface-hub>=0.15.1->sentence_transformers) (3.6)\n",
            "Requirement already satisfied: urllib3<3,>=1.21.1 in /usr/local/lib/python3.10/dist-packages (from requests->huggingface-hub>=0.15.1->sentence_transformers) (2.0.7)\n",
            "Requirement already satisfied: certifi>=2017.4.17 in /usr/local/lib/python3.10/dist-packages (from requests->huggingface-hub>=0.15.1->sentence_transformers) (2024.2.2)\n",
            "Requirement already satisfied: mpmath>=0.19 in /usr/local/lib/python3.10/dist-packages (from sympy->torch>=1.11.0->sentence_transformers) (1.3.0)\n"
          ]
        }
      ]
    },
    {
      "cell_type": "code",
      "execution_count": 73,
      "id": "blank-finding",
      "metadata": {
        "id": "blank-finding"
      },
      "outputs": [],
      "source": [
        "import tenseal as ts # pip install tenseal\n",
        "import base64\n",
        "from sentence_transformers import SentenceTransformer"
      ]
    },
    {
      "cell_type": "markdown",
      "source": [
        "#Setup Embedding Model"
      ],
      "metadata": {
        "id": "GddG4YDXxWFG"
      },
      "id": "GddG4YDXxWFG"
    },
    {
      "cell_type": "code",
      "source": [
        "model = SentenceTransformer('all-MiniLM-L6-v2')"
      ],
      "metadata": {
        "id": "D06VWKb9R05H"
      },
      "id": "D06VWKb9R05H",
      "execution_count": 74,
      "outputs": []
    },
    {
      "cell_type": "code",
      "source": [
        "sentences = [\n",
        "    \"The quick brown fox jumps over the lazy dog.\",\n",
        "    \"I watched the sunset over the ocean.\",\n",
        "    \"Artificial intelligence is transforming industries.\",\n",
        "    \"The library was quiet and smelled like old books.\",\n",
        "    \"He dreamed of traveling to distant galaxies.\",\n",
        "    \"Innovation drives progress in the tech world.\",\n",
        "    \"The chef prepared a delicious meal for the guests.\",\n",
        "    \"Climate change poses a significant threat to global biodiversity.\",\n",
        "    \"The athlete trained rigorously for the upcoming marathon.\",\n",
        "    \"Music has the power to evoke deep emotional responses.\"\n",
        "]"
      ],
      "metadata": {
        "id": "fLkWnZHDXN4T"
      },
      "id": "fLkWnZHDXN4T",
      "execution_count": 75,
      "outputs": []
    },
    {
      "cell_type": "markdown",
      "source": [
        "# Get and Store Sentence Embeddings"
      ],
      "metadata": {
        "id": "1k6mp9KtxeLb"
      },
      "id": "1k6mp9KtxeLb"
    },
    {
      "cell_type": "code",
      "source": [
        "embeddings = model.encode(sentences)\n",
        "print(embeddings)"
      ],
      "metadata": {
        "colab": {
          "base_uri": "https://localhost:8080/"
        },
        "id": "WGIOo0L8ZWsw",
        "outputId": "98b0d245-cc7d-4b49-b8e0-54b19fe7ab2d"
      },
      "id": "WGIOo0L8ZWsw",
      "execution_count": 76,
      "outputs": [
        {
          "output_type": "stream",
          "name": "stdout",
          "text": [
            "[[ 0.04393356  0.05893442  0.04817836 ...  0.05216276  0.05610649\n",
            "   0.10206394]\n",
            " [ 0.02740657  0.0430141   0.03891347 ... -0.01506037 -0.08190976\n",
            "   0.03566786]\n",
            " [ 0.03608515 -0.02447893  0.05895455 ... -0.08262778  0.07626031\n",
            "  -0.02810953]\n",
            " ...\n",
            " [-0.04316908  0.12324493  0.09774672 ... -0.13736206 -0.0542914\n",
            "  -0.02212726]\n",
            " [-0.01195203  0.08340716 -0.03579247 ... -0.0014969   0.00464318\n",
            "  -0.00069307]\n",
            " [ 0.05495496 -0.0110149   0.09608352 ...  0.05075204  0.01033213\n",
            "  -0.03917952]]\n"
          ]
        }
      ]
    },
    {
      "cell_type": "markdown",
      "source": [
        "# Get Query Embedding"
      ],
      "metadata": {
        "id": "ElFs5JXGxb-g"
      },
      "id": "ElFs5JXGxb-g"
    },
    {
      "cell_type": "code",
      "source": [
        "query_text = \"brown\"\n",
        "query_embedding = model.encode([query_text])\n",
        "print(query_embedding)"
      ],
      "metadata": {
        "colab": {
          "base_uri": "https://localhost:8080/"
        },
        "id": "uBrP7RKoZhMS",
        "outputId": "56578e38-9e99-4d31-db66-b8dde0e3ec05"
      },
      "id": "uBrP7RKoZhMS",
      "execution_count": 137,
      "outputs": [
        {
          "output_type": "stream",
          "name": "stdout",
          "text": [
            "[[-1.05881561e-02  2.85556484e-02 -4.00093421e-02  1.10943960e-02\n",
            "   2.13167034e-02 -2.79458780e-02  1.40698910e-01 -6.80966973e-02\n",
            "   3.41516398e-02  1.86501723e-02 -7.26412162e-02 -1.02453955e-01\n",
            "  -3.91524881e-02 -4.99941446e-02  1.07298223e-02  5.85493147e-02\n",
            "   3.73814180e-02 -2.63625607e-02 -8.92162994e-02 -1.00236043e-01\n",
            "  -8.81764293e-02  4.41198796e-02 -3.31310555e-02  1.93479806e-02\n",
            "  -7.97645748e-02  4.61917967e-02  2.58189160e-02 -2.61937920e-02\n",
            "  -3.91580351e-02 -1.38522133e-01 -5.02741858e-02 -8.80908445e-02\n",
            "   2.97451839e-02 -2.53110677e-02 -5.10086156e-02 -8.96003023e-02\n",
            "  -4.55906577e-02 -5.00377687e-03 -4.39924188e-02 -8.37920140e-03\n",
            "  -2.78143510e-02 -8.71248320e-02 -4.60331142e-02  9.33047757e-02\n",
            "   3.77245271e-03  5.33336513e-02  4.66135889e-03  4.65625413e-02\n",
            "  -4.58975732e-02  5.34727499e-02  1.08526107e-02 -2.74228789e-02\n",
            "  -6.68582991e-02  1.26600983e-02  1.75823662e-02  3.23846266e-02\n",
            "  -2.78384611e-02  1.45997033e-02  7.68656284e-02 -5.25192916e-02\n",
            "   2.11349297e-02 -1.56211453e-02 -3.12111825e-02  3.66406352e-03\n",
            "   5.43615930e-02  2.98425425e-02  2.50710398e-02  1.59099884e-03\n",
            "  -9.80964024e-03 -1.18484251e-01  8.37028548e-02  4.65418026e-02\n",
            "   2.27289796e-02 -4.19925749e-02  4.75667305e-02 -4.85879444e-02\n",
            "   7.23500475e-02 -6.47376385e-03  4.41544242e-02  5.16586527e-02\n",
            "  -1.57043468e-02  4.84018326e-02  1.70459691e-02  5.37386648e-02\n",
            "  -3.35984514e-03  2.76625101e-02 -5.04177734e-02  3.02653108e-02\n",
            "  -9.91096795e-02  1.58881471e-02  2.95274868e-03  7.25569129e-02\n",
            "  -2.75634434e-02  1.62091739e-02 -1.36518534e-02  5.83011918e-02\n",
            "   1.70130618e-02 -9.26273614e-02 -1.12967491e-02  1.81815669e-01\n",
            "  -1.89856812e-02  5.39615937e-02  2.38280501e-02  3.15587712e-03\n",
            "  -2.79647075e-02 -8.42098817e-02 -5.23111001e-02 -7.55878836e-02\n",
            "   6.41570315e-02 -4.96609136e-02  7.18304887e-02  1.14780804e-02\n",
            "  -5.63582331e-02  1.19994082e-01  9.72003937e-02 -2.11942606e-02\n",
            "   1.91072412e-02  6.19958155e-02  5.52470088e-02 -8.31233524e-03\n",
            "   3.58862020e-02  9.01578218e-02 -3.71994600e-02  1.03976196e-02\n",
            "  -1.21106185e-01 -1.01801395e-01  5.50287329e-02 -4.70242372e-33\n",
            "   5.39941490e-02 -4.76751029e-02 -2.04744432e-02  1.02638090e-02\n",
            "   7.52151534e-02 -3.04705161e-03 -5.99121191e-02 -5.58214635e-02\n",
            "  -1.08419947e-01  3.54882367e-02 -1.91739611e-02 -4.57576588e-02\n",
            "  -1.93189662e-02 -5.85786290e-02  8.39737430e-02  9.57284793e-02\n",
            "  -8.23974516e-03  4.13712263e-02 -5.40308375e-03 -2.34491918e-02\n",
            "  -4.27585235e-03  1.37340471e-01 -4.57150042e-02  5.12479171e-02\n",
            "  -2.25297771e-02 -6.33487776e-02 -5.56627638e-04 -1.81308072e-02\n",
            "   1.21446392e-02 -2.28428356e-02  1.52409973e-03  5.03905443e-03\n",
            "   2.81286538e-02  4.55098078e-02 -1.38187278e-02 -1.00595348e-01\n",
            "   2.45299097e-03  3.27732414e-02 -1.98078193e-02 -1.86959319e-02\n",
            "   2.15118118e-02  4.22130935e-02 -1.92495100e-02  3.52407768e-02\n",
            "  -6.86106756e-02 -5.43803014e-02  6.51013255e-02 -1.41030727e-02\n",
            "   1.24386055e-02 -1.23530729e-02 -4.54463363e-02 -1.83543302e-02\n",
            "   5.74825816e-02 -3.51746716e-02  2.98282551e-03  4.01107483e-02\n",
            "   6.64019287e-02  2.10173819e-02  3.28928642e-02 -1.73553620e-02\n",
            "   5.42768724e-02  6.29334748e-02  2.66202595e-02  2.63248894e-05\n",
            "   1.19286468e-02 -8.70679095e-02 -5.08881435e-02  2.92888954e-02\n",
            "   2.13727783e-02 -3.49855307e-03 -1.16119469e-02  8.87707248e-03\n",
            "   1.36626795e-01 -7.25367963e-02 -4.64791320e-02 -5.79234920e-02\n",
            "   3.42136361e-02  2.15999223e-02  1.76551752e-03 -2.13167835e-02\n",
            "  -1.83673110e-02 -3.40873152e-02 -7.82917738e-02  4.86559831e-02\n",
            "  -9.87982675e-02  5.09349778e-02 -3.66720818e-02  8.64277557e-02\n",
            "   3.17918025e-02 -1.54865077e-02 -4.54458632e-02 -6.26494223e-03\n",
            "   6.50039827e-03 -8.04952309e-02 -9.60700680e-03  2.81356740e-33\n",
            "   1.70735177e-02  3.70535590e-02  1.17880823e-04  1.27850428e-01\n",
            "  -6.59178011e-04 -6.85705468e-02  6.19259812e-02  1.31789306e-02\n",
            "   5.36306687e-02  4.61857170e-02  3.30944322e-02 -4.03087996e-02\n",
            "  -5.29954955e-02  8.99903551e-02  6.15577959e-02  8.49029273e-02\n",
            "   1.73221249e-02  4.84921969e-03 -5.45113198e-02 -1.05224410e-02\n",
            "  -6.12952597e-02 -3.89569998e-02 -5.12437895e-02 -2.11213809e-02\n",
            "  -6.81731924e-02  3.66902985e-02  4.75658402e-02  1.48816928e-02\n",
            "  -9.98044387e-02 -9.56718903e-03 -3.99925895e-02  2.27147024e-02\n",
            "   1.16348304e-02 -2.43392009e-02 -2.67717075e-02  4.53706235e-02\n",
            "  -1.32102808e-02 -9.65666317e-04  4.83357627e-03  4.37236950e-03\n",
            "   7.96263069e-02  3.18289995e-02  3.84195186e-02  1.04019351e-01\n",
            "   2.21363250e-02  1.57893244e-02 -2.22252943e-02  3.46154906e-02\n",
            "  -6.35925727e-03  4.98479344e-02 -2.47481260e-02  5.96428104e-02\n",
            "  -4.94445153e-02  2.29116604e-02 -3.07345502e-02 -9.56955776e-02\n",
            "  -1.80850066e-02  1.05060581e-02 -3.03449221e-02  7.69245774e-02\n",
            "  -7.64835477e-02 -1.09181376e-02  6.03136793e-02 -6.17543794e-03\n",
            "   1.78493168e-02  3.07135400e-03 -4.62075509e-02 -1.39011592e-02\n",
            "   3.84740904e-02 -1.02802627e-02 -4.07412238e-02 -2.59999055e-02\n",
            "   4.30685654e-02 -1.17683196e-02  2.61401106e-02 -8.66076425e-02\n",
            "   1.24325892e-02  2.96717901e-02  1.72628630e-02  4.41048816e-02\n",
            "  -7.45129734e-02  4.42686230e-02 -1.32077765e-02 -1.59508772e-02\n",
            "   4.58926223e-02 -3.15307453e-02  3.60584967e-02 -2.51730205e-03\n",
            "   8.39985237e-02 -7.24859834e-02  1.92847960e-02  1.68969370e-02\n",
            "   3.87437344e-02 -1.73840038e-02 -1.05593279e-01 -1.19782664e-08\n",
            "  -4.55428846e-03  8.22564028e-03 -6.22502342e-02  7.63281286e-02\n",
            "   7.80316666e-02  5.28294519e-02  5.02741570e-03  1.87384207e-02\n",
            "   4.06872444e-02  2.53993017e-03 -1.94254890e-02  1.21262204e-02\n",
            "  -7.71186408e-03 -7.44544086e-04  5.94219528e-02 -4.03898209e-03\n",
            "  -4.04536016e-02 -1.01364605e-01  3.49591635e-02  3.58676612e-02\n",
            "  -1.49106393e-02  6.98464084e-03  1.49414148e-02  5.83013631e-02\n",
            "   4.37842049e-02  2.39237677e-02 -4.54979800e-02  4.20182645e-02\n",
            "  -8.60143919e-03  8.56716186e-02  5.61353453e-02  9.45981219e-02\n",
            "  -1.44095365e-02  9.25273262e-03  3.95131521e-02 -9.03809816e-02\n",
            "   1.54221496e-02  5.84468357e-02 -6.67245220e-03 -3.22510563e-02\n",
            "  -7.43890330e-02 -2.02740356e-02 -4.22854349e-02 -5.65452427e-02\n",
            "  -7.96774104e-02 -3.23093757e-02 -2.41284668e-02  2.88539473e-02\n",
            "  -1.48210581e-02  5.54529484e-04 -1.85892936e-02 -6.74561113e-02\n",
            "   4.84633483e-02  1.25252351e-01  6.09369762e-02 -2.34708167e-03\n",
            "   9.60547552e-02  1.29774623e-02 -6.16957843e-02 -1.36581212e-02\n",
            "   7.81453326e-02 -7.62487650e-02 -9.97798983e-03  9.73110509e-05]]\n"
          ]
        }
      ]
    },
    {
      "cell_type": "markdown",
      "source": [
        "# Setup CKKS Homomorphic Encryption"
      ],
      "metadata": {
        "id": "rtApa641xn5h"
      },
      "id": "rtApa641xn5h"
    },
    {
      "cell_type": "code",
      "source": [
        "context = ts.context(\n",
        "            ts.SCHEME_TYPE.CKKS,\n",
        "            poly_modulus_degree = 8192,\n",
        "            coeff_mod_bit_sizes = [60, 40, 40, 60]\n",
        "          )\n",
        "\n",
        "context.generate_galois_keys()\n",
        "context.global_scale = 2**40"
      ],
      "metadata": {
        "id": "q7St2ZVgZ2zO"
      },
      "id": "q7St2ZVgZ2zO",
      "execution_count": 138,
      "outputs": []
    },
    {
      "cell_type": "code",
      "source": [
        "secret_context = context.serialize(save_secret_key = True)"
      ],
      "metadata": {
        "id": "77UHXklNZ4qt"
      },
      "id": "77UHXklNZ4qt",
      "execution_count": 139,
      "outputs": []
    },
    {
      "cell_type": "code",
      "source": [
        "context.make_context_public() #drop the secret_key from the context\n",
        "public_context = context.serialize()"
      ],
      "metadata": {
        "id": "3y1WH4LtZ61G"
      },
      "id": "3y1WH4LtZ61G",
      "execution_count": 140,
      "outputs": []
    },
    {
      "cell_type": "code",
      "source": [
        "context = ts.context_from(secret_context)"
      ],
      "metadata": {
        "id": "hlryKQ2sZ_Hi"
      },
      "id": "hlryKQ2sZ_Hi",
      "execution_count": 141,
      "outputs": []
    },
    {
      "cell_type": "markdown",
      "source": [
        "# Encrypt All Embeddings"
      ],
      "metadata": {
        "id": "LsIAh2CRx0Z-"
      },
      "id": "LsIAh2CRx0Z-"
    },
    {
      "cell_type": "code",
      "source": [
        "enc_queryvec = ts.ckks_vector(context, query_embedding[0].tolist())\n",
        "print(enc_queryvec.decrypt())"
      ],
      "metadata": {
        "colab": {
          "base_uri": "https://localhost:8080/"
        },
        "id": "UCZNAupkaD-b",
        "outputId": "f6387438-1726-4cd5-dca4-0e66ef6a4003"
      },
      "id": "UCZNAupkaD-b",
      "execution_count": 142,
      "outputs": [
        {
          "output_type": "stream",
          "name": "stdout",
          "text": [
            "[-0.010588156065170336, 0.02855564979306049, -0.040009343566382215, 0.011094395619597302, 0.021316702332205142, -0.027945878055640687, 0.1406989093118751, -0.06809669654560527, 0.034151639100655044, 0.018650172403258728, -0.07264121633695347, -0.10245395451242453, -0.039152487891927344, -0.049994142263062466, 0.010729823211542776, 0.05854931526002381, 0.03738141667274147, -0.026362560853831103, -0.08921629987929683, -0.10023604229753721, -0.08817642941283625, 0.044119876611273784, -0.03313105495183437, 0.019347978730851582, -0.07976457473655554, 0.04619179465114802, 0.025818915961922678, -0.02619379194704857, -0.03915803367978495, -0.13852213301454128, -0.05027418517428894, -0.0880908436821496, 0.029745181649502583, -0.02531106652816352, -0.051008615701335205, -0.0896003006679342, -0.04559065779935685, -0.005003777820824271, -0.0439924189463748, -0.00837920195764532, -0.027814347054183383, -0.08712483184385565, -0.04603311347066353, 0.0933047777847231, 0.0037724549700822382, 0.05333364834147701, 0.004661359081022096, 0.04656254324366497, -0.045897574319516424, 0.053472749794245995, 0.010852612006406918, -0.027422882766441524, -0.06685829898823521, 0.01266009781207906, 0.01758236773045, 0.032384626547471616, -0.027838460654635327, 0.014599701835585767, 0.07686562962231602, -0.05251929078963216, 0.021134929962447063, -0.01562114542141068, -0.03121118325179812, 0.0036640636674728634, 0.054361593484427796, 0.02984254299663569, 0.02507103661235459, 0.0015909982947340806, -0.009809640526916472, -0.11848424465999802, 0.08370285594787763, 0.04654180132095252, 0.02272898082216835, -0.041992575280981374, 0.047566730621409585, -0.04858794419419615, 0.07235004757213043, -0.006473763170995675, 0.044154425633309735, 0.05165865204290869, -0.01570434675677411, 0.04840183229539553, 0.017045968471027045, 0.053738664972973645, -0.0033598494026262637, 0.027662508971364266, -0.05041777159841507, 0.030265310552579656, -0.0991096794057321, 0.01588814865006047, 0.0029527487345886935, 0.07255691059036849, -0.02756344329186175, 0.016209173919570316, -0.013651854224850636, 0.05830119250355583, 0.017013060152122284, -0.09262736300135631, -0.01129674919153542, 0.1818156677150503, -0.01898568088958436, 0.053961594126215505, 0.023828050192264694, 0.0031558771303561335, -0.027964709187200117, -0.08420988173917555, -0.05231110000904487, -0.07558788325082343, 0.06415703329167627, -0.04966091315270881, 0.07183049039824893, 0.01147807971323065, -0.05635823222760454, 0.1199940820553072, 0.09720039430424472, -0.02119426110620913, 0.01910724219924577, 0.06199581533720815, 0.05524700894638374, -0.008312334963885278, 0.03588620126445207, 0.09015782145615878, -0.03719946164987632, 0.010397619505901047, -0.121106182626488, -0.10180139519806841, 0.055028732765481786, 4.4793245154717276e-10, 0.0539941489572916, -0.04767510325179086, -0.02047444124420991, 0.010263809985128304, 0.07521515421447864, -0.0030470528927264186, -0.05991211692052417, -0.05582146306771269, -0.1084199477151192, 0.035488236483451376, -0.019173962539990923, -0.045757658525031664, -0.019318963159131064, -0.058578628834033, 0.08397374255346338, 0.09572848024027247, -0.008239745863607715, 0.0413712246397798, -0.005403081340212806, -0.023449192053537633, -0.004275854705080934, 0.13734047477618502, -0.04571500449757861, 0.051247916465042134, -0.022529776665916754, -0.06334877795481599, -0.0005566278323456651, -0.018130805599890085, 0.012144640403931928, -0.022842835857720588, 0.0015240995100957756, 0.005039054920617244, 0.028128653782900394, 0.04550980896430735, -0.013818727616699347, -0.10059534782529228, 0.0024529913109217483, 0.03277324164281471, -0.01980781724542578, -0.01869593280321127, 0.0215118122461377, 0.04221309364003768, -0.019249509464815753, 0.03524077670190472, -0.0686106728383846, -0.054380301947381755, 0.06510132651759527, -0.014103073571966733, 0.012438607678241786, -0.01235307234045294, -0.045446336272086274, -0.018354332583533438, 0.057482582435844025, -0.035174673126532933, 0.0029828245062539054, 0.04011074747129184, 0.06640192815742826, 0.021017382547314254, 0.032892864219529555, -0.017355361621689273, 0.05427687584765336, 0.0629334759054066, 0.02662026323566774, 2.6324344725183153e-05, 0.011928646190246384, -0.08706790816693091, -0.05088814432867435, 0.02928889353778192, 0.021372779171908208, -0.0034985520545453078, -0.011611947794019572, 0.008877073502132347, 0.13662679433992303, -0.07253679672148877, -0.04647913023756184, -0.057923493021591936, 0.03421363470318263, 0.021599922111332364, 0.0017655178577242157, -0.021316782294773986, -0.01836730915681943, -0.03408731407118084, -0.07829177415066126, 0.048655982289265196, -0.09879826665347069, 0.05093497765337767, -0.03667208315480429, 0.08642775590547332, 0.03179180212373623, -0.01548650984627912, -0.045445860744088656, -0.006264943521446055, 0.006500398651712406, -0.08049523113234525, -0.009607006135044519, -4.009737958332593e-10, 0.017073518017826233, 0.03705355822820418, 0.00011788267342547482, 0.12785042792400625, -0.0006591775073770401, -0.06857054591649447, 0.06192597964962672, 0.013178930540796456, 0.053630667432169564, 0.046185716739765764, 0.03309443193803989, -0.040308802270375206, -0.052995496320076246, 0.08999035541886025, 0.061557796173596344, 0.08490292682486518, 0.017322125001734745, 0.004849219826901391, -0.05451132074383035, -0.010522441012155832, -0.061295254117427644, -0.038957000525023856, -0.051243791668765463, -0.021121380880759776, -0.06817319143736789, 0.03669030008945791, 0.047565838461716595, 0.014881694131207074, -0.09980443970493144, -0.009567189618553615, -0.03999258903747543, 0.0227147025129733, 0.011634832607422802, -0.024339199315887572, -0.0267717072063315, 0.04537062522040704, -0.01321027917777399, -0.0009656662582011727, 0.00483357807100411, 0.004372368541396304, 0.0796263073776895, 0.03182899758769244, 0.038419519190023614, 0.10401935091027545, 0.02213632559025996, 0.015789321332754097, -0.022225293061016522, 0.034615490220239145, -0.006359256080781131, 0.04984793519293308, -0.024748125664846417, 0.05964281072742076, -0.04944451519492707, 0.022911661493450156, -0.03073455021583849, -0.09569557712881539, -0.01808500707204195, 0.01050605778369967, -0.030344922828235487, 0.07692457917161663, -0.07648354753396365, -0.010918137152751417, 0.060313679620377064, -0.006175439043349724, 0.01784931694221711, 0.003071355054106238, -0.04620754787677089, -0.01390115985857418, 0.03847409241970805, -0.010280263171824174, -0.04074122351601475, -0.025999905747225042, 0.043068566514411565, -0.011768318611684682, 0.026140108355946882, -0.08660764297455695, 0.012432588126419519, 0.02967179065659424, 0.01726286450172503, 0.04410488086173015, -0.07451297344304121, 0.04426862258542037, -0.01320777807331188, -0.015950878648240522, 0.045892622462204144, -0.0315307454189241, 0.03605849658752602, -0.0025173018294304406, 0.08399852416860856, -0.07248598349098885, 0.019284795057809664, 0.016896936418404587, 0.03874373734346582, -0.017384003683917047, -0.10559327939555352, -1.5343207287370556e-08, -0.004554289282965411, 0.00822564036595427, -0.06225023441286626, 0.07632812849268641, 0.07803166563316602, 0.05282945155648831, 0.00502741433323587, 0.018738420730967993, 0.04068724511587428, 0.002539928837871734, -0.019425489497062555, 0.012126219293997143, -0.007711862899901084, -0.0007445440652649842, 0.059421953042367526, -0.0040389810289756, -0.04045360134031523, -0.10136460476457507, 0.0349591636635558, 0.03586766067067356, -0.014910638030283913, 0.006984641643794476, 0.01494141404260273, 0.05830136424493459, 0.043784205681474356, 0.023923768255267413, -0.04549798023547729, 0.04201826486355099, -0.008601439469976813, 0.08567161705182419, 0.05613534769115469, 0.09459812077916387, -0.0144095365701943, 0.009252732717530965, 0.039513152206213306, -0.0903809793750904, 0.015422150087456909, 0.05844683390792588, -0.006672452071177833, -0.03225105509640566, -0.07438903096703554, -0.020274036640289324, -0.042285433866024145, -0.056545241645384645, -0.07967741020447752, -0.032309375457261834, -0.024128465708985424, 0.028853945872405355, -0.014821058904921334, 0.0005545317066837085, -0.018589294082139704, -0.06745611149796668, 0.04846334794065024, 0.12525234993419548, 0.06093697666593191, -0.00234708148880388, 0.09605475579234592, 0.012977462602649627, -0.06169578419235068, -0.013658122390574567, 0.0781453327995881, -0.07624876401989908, -0.009977989180435083, 9.73103576067959e-05]\n"
          ]
        }
      ]
    },
    {
      "cell_type": "markdown",
      "source": [
        "Measure Eucledian Distance"
      ],
      "metadata": {
        "id": "bVvlLunBMKRJ"
      },
      "id": "bVvlLunBMKRJ"
    },
    {
      "cell_type": "code",
      "source": [
        "euclidean_difference_ranking = []\n",
        "for i in range (len(sentences)):\n",
        "  enc_sentence = ts.ckks_vector(context, embeddings[i].tolist())\n",
        "  euclidean_squared =   enc_queryvec - enc_sentence\n",
        "  euclidean_squared = euclidean_squared.dot(euclidean_squared)\n",
        "  euclidean_difference_ranking.append({sentences[i]:abs(euclidean_squared.decrypt()[0])})"
      ],
      "metadata": {
        "id": "XsmYN2HZv_Qh"
      },
      "id": "XsmYN2HZv_Qh",
      "execution_count": 145,
      "outputs": []
    },
    {
      "cell_type": "markdown",
      "source": [
        "# Present Results"
      ],
      "metadata": {
        "id": "EFDabr6UN4Nu"
      },
      "id": "EFDabr6UN4Nu"
    },
    {
      "cell_type": "code",
      "source": [
        "search_results = sorted(euclidean_difference_ranking, key=lambda x: list(x.values())[0])\n",
        "for item in search_results:\n",
        "  print(item)\n",
        "  print()"
      ],
      "metadata": {
        "colab": {
          "base_uri": "https://localhost:8080/"
        },
        "id": "ZX9uGA2QN57W",
        "outputId": "e774023b-a22c-4e23-cb06-4a121e1c052a"
      },
      "id": "ZX9uGA2QN57W",
      "execution_count": 146,
      "outputs": [
        {
          "output_type": "stream",
          "name": "stdout",
          "text": [
            "{'The quick brown fox jumps over the lazy dog.': 1.51384260308229}\n",
            "\n",
            "{'The athlete trained rigorously for the upcoming marathon.': 1.7591404798698158}\n",
            "\n",
            "{'The chef prepared a delicious meal for the guests.': 1.7646651318017312}\n",
            "\n",
            "{'I watched the sunset over the ocean.': 1.8184784707135617}\n",
            "\n",
            "{'The library was quiet and smelled like old books.': 1.8491573796139107}\n",
            "\n",
            "{'He dreamed of traveling to distant galaxies.': 1.8656390952538908}\n",
            "\n",
            "{'Artificial intelligence is transforming industries.': 1.9501590603775918}\n",
            "\n",
            "{'Climate change poses a significant threat to global biodiversity.': 1.9566377585547878}\n",
            "\n",
            "{'Music has the power to evoke deep emotional responses.': 1.9925434698952273}\n",
            "\n",
            "{'Innovation drives progress in the tech world.': 2.0264233588357863}\n",
            "\n"
          ]
        }
      ]
    }
  ],
  "metadata": {
    "kernelspec": {
      "display_name": "Python 3",
      "language": "python",
      "name": "python3"
    },
    "language_info": {
      "codemirror_mode": {
        "name": "ipython",
        "version": 3
      },
      "file_extension": ".py",
      "mimetype": "text/x-python",
      "name": "python",
      "nbconvert_exporter": "python",
      "pygments_lexer": "ipython3",
      "version": "3.8.5"
    },
    "colab": {
      "provenance": []
    }
  },
  "nbformat": 4,
  "nbformat_minor": 5
}